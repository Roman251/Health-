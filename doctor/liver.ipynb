{
 "cells": [
  {
   "cell_type": "code",
   "execution_count": 1,
   "metadata": {},
   "outputs": [],
   "source": [
    "import pandas as pd\n",
    "import numpy as np\n",
    "import matplotlib.pyplot as plt \n",
    "import sklearn.metrics as metrics\n",
    "import warnings\n",
    "warnings.filterwarnings(\"ignore\")"
   ]
  },
  {
   "cell_type": "code",
   "execution_count": 2,
   "metadata": {},
   "outputs": [],
   "source": [
    "df = pd.read_csv('liver.csv')"
   ]
  },
  {
   "cell_type": "code",
   "execution_count": 3,
   "metadata": {},
   "outputs": [
    {
     "data": {
      "text/html": [
       "<div>\n",
       "<style scoped>\n",
       "    .dataframe tbody tr th:only-of-type {\n",
       "        vertical-align: middle;\n",
       "    }\n",
       "\n",
       "    .dataframe tbody tr th {\n",
       "        vertical-align: top;\n",
       "    }\n",
       "\n",
       "    .dataframe thead th {\n",
       "        text-align: right;\n",
       "    }\n",
       "</style>\n",
       "<table border=\"1\" class=\"dataframe\">\n",
       "  <thead>\n",
       "    <tr style=\"text-align: right;\">\n",
       "      <th></th>\n",
       "      <th>Age</th>\n",
       "      <th>Gender</th>\n",
       "      <th>Total_Bilirubin</th>\n",
       "      <th>Direct_Bilirubin</th>\n",
       "      <th>Alkaline_Phosphotase</th>\n",
       "      <th>Alamine_Aminotransferase</th>\n",
       "      <th>Aspartate_Aminotransferase</th>\n",
       "      <th>Total_Protiens</th>\n",
       "      <th>Albumin</th>\n",
       "      <th>Albumin_and_Globulin_Ratio</th>\n",
       "      <th>Dataset</th>\n",
       "    </tr>\n",
       "  </thead>\n",
       "  <tbody>\n",
       "    <tr>\n",
       "      <th>0</th>\n",
       "      <td>65</td>\n",
       "      <td>Female</td>\n",
       "      <td>0.7</td>\n",
       "      <td>0.1</td>\n",
       "      <td>187</td>\n",
       "      <td>16</td>\n",
       "      <td>18</td>\n",
       "      <td>6.8</td>\n",
       "      <td>3.3</td>\n",
       "      <td>0.90</td>\n",
       "      <td>1</td>\n",
       "    </tr>\n",
       "    <tr>\n",
       "      <th>1</th>\n",
       "      <td>62</td>\n",
       "      <td>Male</td>\n",
       "      <td>10.9</td>\n",
       "      <td>5.5</td>\n",
       "      <td>699</td>\n",
       "      <td>64</td>\n",
       "      <td>100</td>\n",
       "      <td>7.5</td>\n",
       "      <td>3.2</td>\n",
       "      <td>0.74</td>\n",
       "      <td>1</td>\n",
       "    </tr>\n",
       "    <tr>\n",
       "      <th>2</th>\n",
       "      <td>62</td>\n",
       "      <td>Male</td>\n",
       "      <td>7.3</td>\n",
       "      <td>4.1</td>\n",
       "      <td>490</td>\n",
       "      <td>60</td>\n",
       "      <td>68</td>\n",
       "      <td>7.0</td>\n",
       "      <td>3.3</td>\n",
       "      <td>0.89</td>\n",
       "      <td>1</td>\n",
       "    </tr>\n",
       "    <tr>\n",
       "      <th>3</th>\n",
       "      <td>58</td>\n",
       "      <td>Male</td>\n",
       "      <td>1.0</td>\n",
       "      <td>0.4</td>\n",
       "      <td>182</td>\n",
       "      <td>14</td>\n",
       "      <td>20</td>\n",
       "      <td>6.8</td>\n",
       "      <td>3.4</td>\n",
       "      <td>1.00</td>\n",
       "      <td>1</td>\n",
       "    </tr>\n",
       "    <tr>\n",
       "      <th>4</th>\n",
       "      <td>72</td>\n",
       "      <td>Male</td>\n",
       "      <td>3.9</td>\n",
       "      <td>2.0</td>\n",
       "      <td>195</td>\n",
       "      <td>27</td>\n",
       "      <td>59</td>\n",
       "      <td>7.3</td>\n",
       "      <td>2.4</td>\n",
       "      <td>0.40</td>\n",
       "      <td>1</td>\n",
       "    </tr>\n",
       "  </tbody>\n",
       "</table>\n",
       "</div>"
      ],
      "text/plain": [
       "   Age  Gender  Total_Bilirubin  Direct_Bilirubin  Alkaline_Phosphotase  \\\n",
       "0   65  Female              0.7               0.1                   187   \n",
       "1   62    Male             10.9               5.5                   699   \n",
       "2   62    Male              7.3               4.1                   490   \n",
       "3   58    Male              1.0               0.4                   182   \n",
       "4   72    Male              3.9               2.0                   195   \n",
       "\n",
       "   Alamine_Aminotransferase  Aspartate_Aminotransferase  Total_Protiens  \\\n",
       "0                        16                          18             6.8   \n",
       "1                        64                         100             7.5   \n",
       "2                        60                          68             7.0   \n",
       "3                        14                          20             6.8   \n",
       "4                        27                          59             7.3   \n",
       "\n",
       "   Albumin  Albumin_and_Globulin_Ratio  Dataset  \n",
       "0      3.3                        0.90        1  \n",
       "1      3.2                        0.74        1  \n",
       "2      3.3                        0.89        1  \n",
       "3      3.4                        1.00        1  \n",
       "4      2.4                        0.40        1  "
      ]
     },
     "execution_count": 3,
     "metadata": {},
     "output_type": "execute_result"
    }
   ],
   "source": [
    "df.head()"
   ]
  },
  {
   "cell_type": "markdown",
   "metadata": {},
   "source": [
    "#### Based on chemical compounds(bilrubin,albumin,protiens,alkaline phosphatase) present in human body and tests like SGOT , SGPT the outcome mentioned whether person is a patient or not."
   ]
  },
  {
   "cell_type": "code",
   "execution_count": 4,
   "metadata": {},
   "outputs": [
    {
     "data": {
      "text/plain": [
       "Index(['Age', 'Gender', 'Total_Bilirubin', 'Direct_Bilirubin',\n",
       "       'Alkaline_Phosphotase', 'Alamine_Aminotransferase',\n",
       "       'Aspartate_Aminotransferase', 'Total_Protiens', 'Albumin',\n",
       "       'Albumin_and_Globulin_Ratio', 'Dataset'],\n",
       "      dtype='object')"
      ]
     },
     "execution_count": 4,
     "metadata": {},
     "output_type": "execute_result"
    }
   ],
   "source": [
    "df.columns"
   ]
  },
  {
   "cell_type": "code",
   "execution_count": 5,
   "metadata": {},
   "outputs": [],
   "source": [
    "df.drop(columns=['Age','Gender'],inplace=True)"
   ]
  },
  {
   "cell_type": "code",
   "execution_count": 6,
   "metadata": {},
   "outputs": [
    {
     "name": "stdout",
     "output_type": "stream",
     "text": [
      "although age and gender plays a vital role in liver health (the older you are, the more chances of you having liver problems), it makes little sense to include them in this model as the rest of the parameters are enough to classify whether a person has liver problems or not. For instance, even if your age is 20 and you are a female, if your Protein and Albumin levels are high, you'll be classified in the same category as a 65 year old man with the same values for Protein and Albumin.\n"
     ]
    }
   ],
   "source": [
    "print(\"although age and gender plays a vital role in liver health (the older you are, the more chances of you having liver problems), it makes little sense to include them in this model as the rest of the parameters are enough to classify whether a person has liver problems or not. For instance, even if your age is 20 and you are a female, if your Protein and Albumin levels are high, you'll be classified in the same category as a 65 year old man with the same values for Protein and Albumin.\")"
   ]
  },
  {
   "cell_type": "code",
   "execution_count": 7,
   "metadata": {},
   "outputs": [
    {
     "data": {
      "text/plain": [
       "(583, 9)"
      ]
     },
     "execution_count": 7,
     "metadata": {},
     "output_type": "execute_result"
    }
   ],
   "source": [
    "df.shape"
   ]
  },
  {
   "cell_type": "code",
   "execution_count": 8,
   "metadata": {},
   "outputs": [],
   "source": [
    "df.dropna(how='any',inplace=True)"
   ]
  },
  {
   "cell_type": "code",
   "execution_count": 9,
   "metadata": {},
   "outputs": [
    {
     "name": "stdout",
     "output_type": "stream",
     "text": [
      "Bilirubin test results are expressed as direct, indirect or total bilirubin. Total is a combination of direct and indirect bilirubin. Since, there is a relationship between total and direct bilirubin, it is wise to drop any one of the two to avoid the problem of multicollinearity.\n"
     ]
    }
   ],
   "source": [
    "print(\"Bilirubin test results are expressed as direct, indirect or total bilirubin. Total is a combination of direct and indirect bilirubin. Since, there is a relationship between total and direct bilirubin, it is wise to drop any one of the two to avoid the problem of multicollinearity.\")"
   ]
  },
  {
   "cell_type": "code",
   "execution_count": 10,
   "metadata": {},
   "outputs": [],
   "source": [
    "df.drop(columns=['Direct_Bilirubin'],inplace=True)"
   ]
  },
  {
   "cell_type": "code",
   "execution_count": 11,
   "metadata": {},
   "outputs": [],
   "source": [
    "df[\"Dataset\"]=df[\"Dataset\"].map({1:0,2:1})"
   ]
  },
  {
   "cell_type": "code",
   "execution_count": 12,
   "metadata": {},
   "outputs": [
    {
     "data": {
      "text/plain": [
       "array([0, 1])"
      ]
     },
     "execution_count": 12,
     "metadata": {},
     "output_type": "execute_result"
    }
   ],
   "source": [
    "df['Dataset'].unique()"
   ]
  },
  {
   "cell_type": "code",
   "execution_count": 13,
   "metadata": {},
   "outputs": [
    {
     "data": {
      "text/plain": [
       "0    414\n",
       "1    165\n",
       "Name: Dataset, dtype: int64"
      ]
     },
     "execution_count": 13,
     "metadata": {},
     "output_type": "execute_result"
    }
   ],
   "source": [
    "df['Dataset'].value_counts()"
   ]
  },
  {
   "cell_type": "code",
   "execution_count": 14,
   "metadata": {},
   "outputs": [],
   "source": [
    "target=df[\"Dataset\"]"
   ]
  },
  {
   "cell_type": "code",
   "execution_count": 15,
   "metadata": {},
   "outputs": [],
   "source": [
    "source=df.drop([\"Dataset\"],axis=1)"
   ]
  },
  {
   "cell_type": "code",
   "execution_count": 16,
   "metadata": {},
   "outputs": [],
   "source": [
    "from imblearn.over_sampling import SMOTE"
   ]
  },
  {
   "cell_type": "code",
   "execution_count": 17,
   "metadata": {},
   "outputs": [],
   "source": [
    "sm=SMOTE(random_state=42)\n",
    "X_res,Y_res = sm.fit_sample(source,target)"
   ]
  },
  {
   "cell_type": "code",
   "execution_count": 18,
   "metadata": {},
   "outputs": [
    {
     "data": {
      "text/plain": [
       "((828, 7), (828,))"
      ]
     },
     "execution_count": 18,
     "metadata": {},
     "output_type": "execute_result"
    }
   ],
   "source": [
    "X_res.shape,Y_res.shape"
   ]
  },
  {
   "cell_type": "code",
   "execution_count": 19,
   "metadata": {},
   "outputs": [],
   "source": [
    "X_res['Dataset']=Y_res"
   ]
  },
  {
   "cell_type": "code",
   "execution_count": 20,
   "metadata": {},
   "outputs": [
    {
     "data": {
      "text/html": [
       "<div>\n",
       "<style scoped>\n",
       "    .dataframe tbody tr th:only-of-type {\n",
       "        vertical-align: middle;\n",
       "    }\n",
       "\n",
       "    .dataframe tbody tr th {\n",
       "        vertical-align: top;\n",
       "    }\n",
       "\n",
       "    .dataframe thead th {\n",
       "        text-align: right;\n",
       "    }\n",
       "</style>\n",
       "<table border=\"1\" class=\"dataframe\">\n",
       "  <thead>\n",
       "    <tr style=\"text-align: right;\">\n",
       "      <th></th>\n",
       "      <th>Total_Bilirubin</th>\n",
       "      <th>Alkaline_Phosphotase</th>\n",
       "      <th>Alamine_Aminotransferase</th>\n",
       "      <th>Aspartate_Aminotransferase</th>\n",
       "      <th>Total_Protiens</th>\n",
       "      <th>Albumin</th>\n",
       "      <th>Albumin_and_Globulin_Ratio</th>\n",
       "      <th>Dataset</th>\n",
       "    </tr>\n",
       "  </thead>\n",
       "  <tbody>\n",
       "    <tr>\n",
       "      <th>0</th>\n",
       "      <td>0.7</td>\n",
       "      <td>187</td>\n",
       "      <td>16</td>\n",
       "      <td>18</td>\n",
       "      <td>6.8</td>\n",
       "      <td>3.3</td>\n",
       "      <td>0.90</td>\n",
       "      <td>0</td>\n",
       "    </tr>\n",
       "    <tr>\n",
       "      <th>1</th>\n",
       "      <td>10.9</td>\n",
       "      <td>699</td>\n",
       "      <td>64</td>\n",
       "      <td>100</td>\n",
       "      <td>7.5</td>\n",
       "      <td>3.2</td>\n",
       "      <td>0.74</td>\n",
       "      <td>0</td>\n",
       "    </tr>\n",
       "    <tr>\n",
       "      <th>2</th>\n",
       "      <td>7.3</td>\n",
       "      <td>490</td>\n",
       "      <td>60</td>\n",
       "      <td>68</td>\n",
       "      <td>7.0</td>\n",
       "      <td>3.3</td>\n",
       "      <td>0.89</td>\n",
       "      <td>0</td>\n",
       "    </tr>\n",
       "    <tr>\n",
       "      <th>3</th>\n",
       "      <td>1.0</td>\n",
       "      <td>182</td>\n",
       "      <td>14</td>\n",
       "      <td>20</td>\n",
       "      <td>6.8</td>\n",
       "      <td>3.4</td>\n",
       "      <td>1.00</td>\n",
       "      <td>0</td>\n",
       "    </tr>\n",
       "    <tr>\n",
       "      <th>4</th>\n",
       "      <td>3.9</td>\n",
       "      <td>195</td>\n",
       "      <td>27</td>\n",
       "      <td>59</td>\n",
       "      <td>7.3</td>\n",
       "      <td>2.4</td>\n",
       "      <td>0.40</td>\n",
       "      <td>0</td>\n",
       "    </tr>\n",
       "  </tbody>\n",
       "</table>\n",
       "</div>"
      ],
      "text/plain": [
       "   Total_Bilirubin  Alkaline_Phosphotase  Alamine_Aminotransferase  \\\n",
       "0              0.7                   187                        16   \n",
       "1             10.9                   699                        64   \n",
       "2              7.3                   490                        60   \n",
       "3              1.0                   182                        14   \n",
       "4              3.9                   195                        27   \n",
       "\n",
       "   Aspartate_Aminotransferase  Total_Protiens  Albumin  \\\n",
       "0                          18             6.8      3.3   \n",
       "1                         100             7.5      3.2   \n",
       "2                          68             7.0      3.3   \n",
       "3                          20             6.8      3.4   \n",
       "4                          59             7.3      2.4   \n",
       "\n",
       "   Albumin_and_Globulin_Ratio  Dataset  \n",
       "0                        0.90        0  \n",
       "1                        0.74        0  \n",
       "2                        0.89        0  \n",
       "3                        1.00        0  \n",
       "4                        0.40        0  "
      ]
     },
     "execution_count": 20,
     "metadata": {},
     "output_type": "execute_result"
    }
   ],
   "source": [
    "X_res.head()"
   ]
  },
  {
   "cell_type": "code",
   "execution_count": 21,
   "metadata": {},
   "outputs": [
    {
     "data": {
      "text/plain": [
       "1    414\n",
       "0    414\n",
       "Name: Dataset, dtype: int64"
      ]
     },
     "execution_count": 21,
     "metadata": {},
     "output_type": "execute_result"
    }
   ],
   "source": [
    "X_res['Dataset'].value_counts()"
   ]
  },
  {
   "cell_type": "code",
   "execution_count": 22,
   "metadata": {},
   "outputs": [],
   "source": [
    "from sklearn.model_selection import train_test_split"
   ]
  },
  {
   "cell_type": "code",
   "execution_count": 23,
   "metadata": {},
   "outputs": [],
   "source": [
    "X_train,X_test,y_train,y_test = train_test_split(X_res.drop(columns=['Dataset']),X_res['Dataset'],test_size=0.2,random_state=1)"
   ]
  },
  {
   "cell_type": "code",
   "execution_count": 24,
   "metadata": {},
   "outputs": [],
   "source": [
    "from sklearn.preprocessing import StandardScaler"
   ]
  },
  {
   "cell_type": "code",
   "execution_count": 25,
   "metadata": {},
   "outputs": [],
   "source": [
    "scaler = StandardScaler()"
   ]
  },
  {
   "cell_type": "code",
   "execution_count": 26,
   "metadata": {},
   "outputs": [],
   "source": [
    "X_train = scaler.fit_transform(X_train)"
   ]
  },
  {
   "cell_type": "code",
   "execution_count": 27,
   "metadata": {},
   "outputs": [],
   "source": [
    "X_test = scaler.transform(X_test)"
   ]
  },
  {
   "cell_type": "code",
   "execution_count": 28,
   "metadata": {},
   "outputs": [],
   "source": [
    "from sklearn.linear_model import LogisticRegression"
   ]
  },
  {
   "cell_type": "code",
   "execution_count": 29,
   "metadata": {},
   "outputs": [],
   "source": [
    "lr=LogisticRegression()"
   ]
  },
  {
   "cell_type": "code",
   "execution_count": 30,
   "metadata": {},
   "outputs": [
    {
     "data": {
      "text/plain": [
       "LogisticRegression()"
      ]
     },
     "execution_count": 30,
     "metadata": {},
     "output_type": "execute_result"
    }
   ],
   "source": [
    "lr.fit(X_train,y_train)"
   ]
  },
  {
   "cell_type": "code",
   "execution_count": 31,
   "metadata": {},
   "outputs": [
    {
     "data": {
      "text/plain": [
       "array([1, 0, 1, 1, 0])"
      ]
     },
     "execution_count": 31,
     "metadata": {},
     "output_type": "execute_result"
    }
   ],
   "source": [
    "lr.predict(X_test)[0:5]"
   ]
  },
  {
   "cell_type": "code",
   "execution_count": 32,
   "metadata": {},
   "outputs": [
    {
     "data": {
      "text/plain": [
       "array([1, 0, 1, 1, 0, 1, 1, 0, 1, 0, 0, 1, 0, 0, 1, 1, 1, 1, 0, 1, 0, 1,\n",
       "       0, 1, 1, 1, 1, 1, 1, 1, 1, 1, 1, 1, 1, 1, 1, 1, 1, 1, 1, 1, 0, 1,\n",
       "       1, 1, 1, 0, 1, 0, 1, 1, 1, 1, 0, 1, 1, 0, 1, 0, 0, 1, 1, 1, 0, 0,\n",
       "       0, 0, 0, 0, 0, 1, 1, 0, 0, 1, 0, 1, 1, 0, 0, 1, 0, 0, 0, 0, 1, 1,\n",
       "       1, 0, 1, 1, 1, 0, 1, 1, 1, 1, 1, 1, 1, 0, 0, 1, 0, 1, 1, 0, 1, 1,\n",
       "       1, 0, 1, 1, 1, 0, 0, 1, 1, 0, 1, 0, 1, 1, 1, 1, 1, 1, 0, 1, 1, 1,\n",
       "       1, 1, 1, 1, 0, 1, 1, 1, 0, 0, 1, 0, 1, 1, 0, 0, 1, 1, 1, 1, 1, 1,\n",
       "       1, 1, 0, 1, 1, 1, 1, 0, 1, 1, 1, 1])"
      ]
     },
     "execution_count": 32,
     "metadata": {},
     "output_type": "execute_result"
    }
   ],
   "source": [
    "lr.predict(X_test)"
   ]
  },
  {
   "cell_type": "code",
   "execution_count": 33,
   "metadata": {},
   "outputs": [
    {
     "data": {
      "text/plain": [
       "array([0.25977244, 0.74022756])"
      ]
     },
     "execution_count": 33,
     "metadata": {},
     "output_type": "execute_result"
    }
   ],
   "source": [
    "lr.predict_proba(X_test)[0]"
   ]
  },
  {
   "cell_type": "code",
   "execution_count": 34,
   "metadata": {},
   "outputs": [
    {
     "data": {
      "text/plain": [
       "array([7.40227559e-01, 4.74480446e-01, 7.56873575e-01, 6.04275496e-01,\n",
       "       3.17287071e-04, 7.03223967e-01, 5.32625586e-01, 4.87688311e-01,\n",
       "       7.24632831e-01, 6.00723153e-04, 5.62114717e-02, 6.58801471e-01,\n",
       "       2.27895516e-01, 4.31506130e-01, 5.32232740e-01, 6.36413551e-01,\n",
       "       5.13642226e-01, 6.37598141e-01, 2.00564903e-01, 6.35446039e-01,\n",
       "       1.01457225e-01, 7.24577708e-01, 2.70973434e-01, 7.62469890e-01,\n",
       "       6.93715164e-01, 5.23670955e-01, 5.82888710e-01, 6.71492199e-01,\n",
       "       6.15733903e-01, 7.00059966e-01, 7.31646818e-01, 7.23415079e-01,\n",
       "       6.80841121e-01, 6.89237526e-01, 6.68124630e-01, 6.53216725e-01,\n",
       "       7.29503660e-01, 6.66056495e-01, 5.14773831e-01, 6.98697560e-01,\n",
       "       5.92687556e-01, 5.51520859e-01, 9.58959866e-04, 6.05693916e-01,\n",
       "       5.13642226e-01, 6.22738281e-01, 6.78203541e-01, 1.63669151e-01,\n",
       "       6.48927108e-01, 4.79982340e-01, 6.96669061e-01, 5.86793578e-01,\n",
       "       7.88317534e-01, 7.67748697e-01, 5.78749031e-13, 6.32585751e-01,\n",
       "       6.03042080e-01, 9.08482888e-04, 7.01334978e-01, 1.57453325e-01,\n",
       "       8.68008719e-08, 6.71461929e-01, 5.53349506e-01, 5.77388411e-01,\n",
       "       8.63560093e-02, 3.18104999e-01, 4.24760073e-01, 3.75108083e-01,\n",
       "       1.33619738e-02, 3.72238398e-01, 1.78479085e-01, 5.37777483e-01,\n",
       "       6.47844737e-01, 4.96767064e-01, 8.83986698e-03, 6.89197965e-01,\n",
       "       4.58609436e-01, 6.87554504e-01, 6.97170493e-01, 3.72922772e-01,\n",
       "       3.21290597e-01, 5.69780396e-01, 6.14443682e-03, 4.65737006e-01,\n",
       "       4.03917002e-02, 3.62375445e-02, 5.26091005e-01, 6.46425577e-01,\n",
       "       6.69114133e-01, 3.03917203e-01, 6.05903254e-01, 5.35730951e-01,\n",
       "       5.98149220e-01, 2.41549104e-01, 5.59858187e-01, 7.22189649e-01,\n",
       "       6.40409680e-01, 7.06002100e-01, 6.57617145e-01, 6.57333279e-01,\n",
       "       5.80081544e-01, 4.82859572e-01, 4.04665033e-01, 5.65174762e-01,\n",
       "       4.37944926e-01, 7.70649740e-01, 7.34625370e-01, 6.60628059e-03,\n",
       "       5.55289669e-01, 7.24569471e-01, 7.52923753e-01, 3.39946799e-01,\n",
       "       6.69692793e-01, 6.59010049e-01, 7.29464387e-01, 1.20415712e-01,\n",
       "       1.94785547e-01, 6.72177781e-01, 7.12544125e-01, 2.09743814e-01,\n",
       "       5.93619084e-01, 2.77237509e-06, 6.56912871e-01, 5.96467706e-01,\n",
       "       6.02506335e-01, 6.25811364e-01, 5.93559075e-01, 6.23601236e-01,\n",
       "       4.84930059e-01, 5.54146078e-01, 6.29109570e-01, 6.10236709e-01,\n",
       "       5.88292868e-01, 6.09611948e-01, 6.71372759e-01, 7.36979785e-01,\n",
       "       3.76355654e-08, 6.09859308e-01, 6.36551143e-01, 6.23597172e-01,\n",
       "       4.74824940e-01, 4.60485426e-01, 7.19372740e-01, 1.20999160e-04,\n",
       "       6.21029448e-01, 7.12786135e-01, 4.61987372e-01, 4.31608364e-01,\n",
       "       6.32840684e-01, 6.67743259e-01, 7.35714979e-01, 7.65235808e-01,\n",
       "       6.85439344e-01, 5.87903895e-01, 6.14761730e-01, 6.78407710e-01,\n",
       "       1.02271812e-03, 7.74792490e-01, 6.75092922e-01, 5.35698211e-01,\n",
       "       6.75256851e-01, 7.00807362e-14, 6.67130043e-01, 7.21814893e-01,\n",
       "       6.09258875e-01, 5.32522438e-01])"
      ]
     },
     "execution_count": 34,
     "metadata": {},
     "output_type": "execute_result"
    }
   ],
   "source": [
    "lr.predict_proba(X_test)[:,1]"
   ]
  },
  {
   "cell_type": "code",
   "execution_count": 35,
   "metadata": {},
   "outputs": [
    {
     "data": {
      "text/plain": [
       "0.6867469879518072"
      ]
     },
     "execution_count": 35,
     "metadata": {},
     "output_type": "execute_result"
    }
   ],
   "source": [
    "lr.score(X_test,y_test)"
   ]
  },
  {
   "cell_type": "code",
   "execution_count": 36,
   "metadata": {},
   "outputs": [],
   "source": [
    "from sklearn.model_selection import cross_val_score"
   ]
  },
  {
   "cell_type": "code",
   "execution_count": 37,
   "metadata": {},
   "outputs": [
    {
     "name": "stdout",
     "output_type": "stream",
     "text": [
      "0.7009256538348516\n"
     ]
    }
   ],
   "source": [
    "print(cross_val_score(lr,X_train,y_train,cv=8,scoring='accuracy').mean())"
   ]
  },
  {
   "cell_type": "code",
   "execution_count": 38,
   "metadata": {},
   "outputs": [],
   "source": [
    "from sklearn.metrics import confusion_matrix,classification_report,plot_confusion_matrix"
   ]
  },
  {
   "cell_type": "code",
   "execution_count": 39,
   "metadata": {},
   "outputs": [
    {
     "name": "stdout",
     "output_type": "stream",
     "text": [
      "[[42 41]\n",
      " [11 72]]\n"
     ]
    }
   ],
   "source": [
    "print(confusion_matrix(y_test,lr.predict(X_test)))"
   ]
  },
  {
   "cell_type": "code",
   "execution_count": 40,
   "metadata": {},
   "outputs": [
    {
     "name": "stdout",
     "output_type": "stream",
     "text": [
      "[[42 11]\n",
      " [41 72]]\n"
     ]
    }
   ],
   "source": [
    "print(confusion_matrix(lr.predict(X_test),y_test))"
   ]
  },
  {
   "cell_type": "code",
   "execution_count": 41,
   "metadata": {},
   "outputs": [
    {
     "data": {
      "text/plain": [
       "<sklearn.metrics._plot.confusion_matrix.ConfusionMatrixDisplay at 0x11f6bb520>"
      ]
     },
     "execution_count": 41,
     "metadata": {},
     "output_type": "execute_result"
    },
    {
     "data": {
      "image/png": "[encoded data removed]",
      "text/plain": [
       "<Figure size 432x288 with 2 Axes>"
      ]
     },
     "metadata": {
      "needs_background": "light"
     },
     "output_type": "display_data"
    }
   ],
   "source": [
    "plot_confusion_matrix(lr.fit(X_train,y_train), X_test, y_test)"
   ]
  },
  {
   "cell_type": "code",
   "execution_count": 42,
   "metadata": {},
   "outputs": [
    {
     "data": {
      "text/plain": [
       "<sklearn.metrics._plot.confusion_matrix.ConfusionMatrixDisplay at 0x11f7d45e0>"
      ]
     },
     "execution_count": 42,
     "metadata": {},
     "output_type": "execute_result"
    },
    {
     "data": {
      "image/png": "[encoded data removed]",
      "text/plain": [
       "<Figure size 432x288 with 2 Axes>"
      ]
     },
     "metadata": {
      "needs_background": "light"
     },
     "output_type": "display_data"
    }
   ],
   "source": [
    "plot_confusion_matrix(lr.fit(X_train,y_train), X_test, y_test, display_labels=['Does not have LP','Has LP'])"
   ]
  },
  {
   "cell_type": "code",
   "execution_count": 43,
   "metadata": {},
   "outputs": [
    {
     "name": "stdout",
     "output_type": "stream",
     "text": [
      "              precision    recall  f1-score   support\n",
      "\n",
      "           0       0.79      0.51      0.62        83\n",
      "           1       0.64      0.87      0.73        83\n",
      "\n",
      "    accuracy                           0.69       166\n",
      "   macro avg       0.71      0.69      0.68       166\n",
      "weighted avg       0.71      0.69      0.68       166\n",
      "\n"
     ]
    }
   ],
   "source": [
    "print(classification_report(y_test,lr.predict(X_test)))"
   ]
  },
  {
   "cell_type": "code",
   "execution_count": 44,
   "metadata": {},
   "outputs": [
    {
     "name": "stdout",
     "output_type": "stream",
     "text": [
      "We got a very low accuracy with logistic regression. The confusion matrix also shows that 11 people who had liver problems were wrongly classified. This can be more dangerous than wrongly classifying people who do not have any health problems as having health problems. Hence we try to minimize the occurrence of False Negative as much as possible. This can be done by changing the threshold value, which by default is 0.5 for logistic regression binary classification, to a value that gives less False Negatives. This threshod value can be computed using ROC and AUC.\n",
      "\n",
      "While our objective is to reduce False Negatives (people who were wrongly classified as not having problems inspite of having them), we must remember that in doing so we do not select a threshold value that would misclassify the True Positives.\n"
     ]
    }
   ],
   "source": [
    "print(\"We got a very low accuracy with logistic regression. The confusion matrix also shows that 11 people who had liver problems were wrongly classified. This can be more dangerous than wrongly classifying people who do not have any health problems as having health problems. Hence we try to minimize the occurrence of False Negative as much as possible. This can be done by changing the threshold value, which by default is 0.5 for logistic regression binary classification, to a value that gives less False Negatives. This threshod value can be computed using ROC and AUC.\") \n",
    "print()\n",
    "print(\"While our objective is to reduce False Negatives (people who were wrongly classified as not having problems inspite of having them), we must remember that in doing so we do not select a threshold value that would misclassify the True Positives.\") "
   ]
  },
  {
   "cell_type": "code",
   "execution_count": 45,
   "metadata": {},
   "outputs": [
    {
     "name": "stdout",
     "output_type": "stream",
     "text": [
      "\n",
      "******** For i = 0 ******\n",
      "Our testing accuracy is 0.5\n",
      "[[ 0 83]\n",
      " [ 0 83]]\n",
      "              precision    recall  f1-score   support\n",
      "\n",
      "           0       0.00      0.00      0.00        83\n",
      "           1       0.50      1.00      0.67        83\n",
      "\n",
      "    accuracy                           0.50       166\n",
      "   macro avg       0.25      0.50      0.33       166\n",
      "weighted avg       0.25      0.50      0.33       166\n",
      "\n",
      "\n",
      "******** For i = 0.1 ******\n",
      "Our testing accuracy is 0.6144578313253012\n",
      "[[19 64]\n",
      " [ 0 83]]\n",
      "              precision    recall  f1-score   support\n",
      "\n",
      "           0       1.00      0.23      0.37        83\n",
      "           1       0.56      1.00      0.72        83\n",
      "\n",
      "    accuracy                           0.61       166\n",
      "   macro avg       0.78      0.61      0.55       166\n",
      "weighted avg       0.78      0.61      0.55       166\n",
      "\n",
      "\n",
      "******** For i = 0.2 ******\n",
      "Our testing accuracy is 0.6506024096385542\n",
      "[[25 58]\n",
      " [ 0 83]]\n",
      "              precision    recall  f1-score   support\n",
      "\n",
      "           0       1.00      0.30      0.46        83\n",
      "           1       0.59      1.00      0.74        83\n",
      "\n",
      "    accuracy                           0.65       166\n",
      "   macro avg       0.79      0.65      0.60       166\n",
      "weighted avg       0.79      0.65      0.60       166\n",
      "\n",
      "\n",
      "******** For i = 0.3 ******\n",
      "Our testing accuracy is 0.6807228915662651\n",
      "[[30 53]\n",
      " [ 0 83]]\n",
      "              precision    recall  f1-score   support\n",
      "\n",
      "           0       1.00      0.36      0.53        83\n",
      "           1       0.61      1.00      0.76        83\n",
      "\n",
      "    accuracy                           0.68       166\n",
      "   macro avg       0.81      0.68      0.64       166\n",
      "weighted avg       0.81      0.68      0.64       166\n",
      "\n",
      "\n",
      "******** For i = 0.4 ******\n",
      "Our testing accuracy is 0.6987951807228916\n",
      "[[35 48]\n",
      " [ 2 81]]\n",
      "              precision    recall  f1-score   support\n",
      "\n",
      "           0       0.95      0.42      0.58        83\n",
      "           1       0.63      0.98      0.76        83\n",
      "\n",
      "    accuracy                           0.70       166\n",
      "   macro avg       0.79      0.70      0.67       166\n",
      "weighted avg       0.79      0.70      0.67       166\n",
      "\n",
      "\n",
      "******** For i = 0.5 ******\n",
      "Our testing accuracy is 0.6867469879518072\n",
      "[[42 41]\n",
      " [11 72]]\n",
      "              precision    recall  f1-score   support\n",
      "\n",
      "           0       0.79      0.51      0.62        83\n",
      "           1       0.64      0.87      0.73        83\n",
      "\n",
      "    accuracy                           0.69       166\n",
      "   macro avg       0.71      0.69      0.68       166\n",
      "weighted avg       0.71      0.69      0.68       166\n",
      "\n",
      "\n",
      "******** For i = 0.6 ******\n",
      "Our testing accuracy is 0.6686746987951807\n",
      "[[55 28]\n",
      " [27 56]]\n",
      "              precision    recall  f1-score   support\n",
      "\n",
      "           0       0.67      0.66      0.67        83\n",
      "           1       0.67      0.67      0.67        83\n",
      "\n",
      "    accuracy                           0.67       166\n",
      "   macro avg       0.67      0.67      0.67       166\n",
      "weighted avg       0.67      0.67      0.67       166\n",
      "\n",
      "\n",
      "******** For i = 0.7 ******\n",
      "Our testing accuracy is 0.5843373493975904\n",
      "[[76  7]\n",
      " [62 21]]\n",
      "              precision    recall  f1-score   support\n",
      "\n",
      "           0       0.55      0.92      0.69        83\n",
      "           1       0.75      0.25      0.38        83\n",
      "\n",
      "    accuracy                           0.58       166\n",
      "   macro avg       0.65      0.58      0.53       166\n",
      "weighted avg       0.65      0.58      0.53       166\n",
      "\n",
      "\n",
      "******** For i = 0.8 ******\n",
      "Our testing accuracy is 0.5\n",
      "[[83  0]\n",
      " [83  0]]\n",
      "              precision    recall  f1-score   support\n",
      "\n",
      "           0       0.50      1.00      0.67        83\n",
      "           1       0.00      0.00      0.00        83\n",
      "\n",
      "    accuracy                           0.50       166\n",
      "   macro avg       0.25      0.50      0.33       166\n",
      "weighted avg       0.25      0.50      0.33       166\n",
      "\n",
      "\n",
      "******** For i = 0.9 ******\n",
      "Our testing accuracy is 0.5\n",
      "[[83  0]\n",
      " [83  0]]\n",
      "              precision    recall  f1-score   support\n",
      "\n",
      "           0       0.50      1.00      0.67        83\n",
      "           1       0.00      0.00      0.00        83\n",
      "\n",
      "    accuracy                           0.50       166\n",
      "   macro avg       0.25      0.50      0.33       166\n",
      "weighted avg       0.25      0.50      0.33       166\n",
      "\n"
     ]
    }
   ],
   "source": [
    "pred_proba_df = pd.DataFrame(lr.predict_proba(X_test))\n",
    "threshold_list = [0,.1,.2,.3,.4,.5,.6,.7,.8,.9]\n",
    "for i in threshold_list:\n",
    "    print ('\\n******** For i = {} ******'.format(i))\n",
    "    y_test_pred = pred_proba_df.applymap(lambda x: 1 if x>i else 0)\n",
    "    test_accuracy = metrics.accuracy_score(y_test.to_numpy().reshape(y_test.to_numpy().size,1),\n",
    "                                           y_test_pred.iloc[:,1].to_numpy().reshape(y_test_pred.iloc[:,1].to_numpy().size,1))\n",
    "    print('Our testing accuracy is {}'.format(test_accuracy))\n",
    "\n",
    "    print(confusion_matrix(y_test.to_numpy().reshape(y_test.to_numpy().size,1),\n",
    "                           y_test_pred.iloc[:,1].to_numpy().reshape(y_test_pred.iloc[:,1].to_numpy().size,1)))\n",
    "    print(classification_report(y_test.to_numpy().reshape(y_test.to_numpy().size,1),\n",
    "                           y_test_pred.iloc[:,1].to_numpy().reshape(y_test_pred.iloc[:,1].to_numpy().size,1)))"
   ]
  },
  {
   "cell_type": "code",
   "execution_count": 46,
   "metadata": {},
   "outputs": [],
   "source": [
    "from sklearn.metrics import roc_curve, auc\n",
    "from sklearn.metrics import roc_auc_score"
   ]
  },
  {
   "cell_type": "code",
   "execution_count": 47,
   "metadata": {},
   "outputs": [
    {
     "data": {
      "text/plain": [
       "SVC(random_state=4)"
      ]
     },
     "execution_count": 47,
     "metadata": {},
     "output_type": "execute_result"
    }
   ],
   "source": [
    "from sklearn.svm import SVC\n",
    "model_SVC = SVC(kernel = 'rbf', random_state = 4)\n",
    "model_SVC.fit(X_train, y_train)"
   ]
  },
  {
   "cell_type": "code",
   "execution_count": 48,
   "metadata": {},
   "outputs": [
    {
     "name": "stdout",
     "output_type": "stream",
     "text": [
      "Since SVM does not work with probabilities, predict_proba function is not available in the SVM model. So we use the decision function to draw ROC-AUC curve for the SVM model. The decision function returns a value that is the distance from the point to the plane of the model(SVM). The decision function gives the same value for AUC in Logistic Regression as well. However, the threshold values it returns may not to reliable. Hence, it can be used to compare algorithms, but not determine threshold.\n"
     ]
    }
   ],
   "source": [
    "print(\"Since SVM does not work with probabilities, predict_proba function is not available in the SVM model. So we use the decision function to draw ROC-AUC curve for the SVM model. The decision function returns a value that is the distance from the point to the plane of the model(SVM). The decision function gives the same value for AUC in Logistic Regression as well. However, the threshold values it returns may not to reliable. Hence, it can be used to compare algorithms, but not determine threshold.\")"
   ]
  },
  {
   "cell_type": "code",
   "execution_count": 49,
   "metadata": {},
   "outputs": [],
   "source": [
    "y_pred_svm = model_SVC.decision_function(X_test)"
   ]
  },
  {
   "cell_type": "code",
   "execution_count": 50,
   "metadata": {},
   "outputs": [
    {
     "data": {
      "image/png": "[encoded data removed]",
      "text/plain": [
       "<Figure size 500x500 with 1 Axes>"
      ]
     },
     "metadata": {
      "needs_background": "light"
     },
     "output_type": "display_data"
    }
   ],
   "source": [
    "#ROC-AUC FOR LOGISTIC REGRESSION AND SVM\n",
    "\n",
    "roc_auc_score_calc_log = roc_auc_score(y_test,lr.predict(X_test))\n",
    "\n",
    "logistic_fpr, logistic_tpr, logistic_threshold = roc_curve(y_test, lr.predict_proba(X_test)[:,1])\n",
    "SVC_fpr, SVC_tpr, SVC_threshold = roc_curve(y_test, y_pred_svm)\n",
    "auc_logistic = auc(logistic_fpr, logistic_tpr)\n",
    "auc_SVC = auc(SVC_fpr, SVC_tpr)\n",
    "plt.figure(figsize=(5, 5), dpi=100)\n",
    "plt.plot(logistic_fpr, logistic_tpr, marker='.', label='Logistic %.3f'% auc_logistic)\n",
    "plt.plot(SVC_fpr, SVC_tpr, marker='.', label='SVC %.3f'% auc_SVC)\n",
    "plt.xlabel('False Positive Rate -->')\n",
    "plt.ylabel('True Positive Rate -->')\n",
    "plt.legend()\n",
    "plt.show()"
   ]
  },
  {
   "cell_type": "markdown",
   "metadata": {},
   "source": [
    "### The area under the curve for SVC is higher than area under the curve for Logistic Regression. This implies SVC performs better."
   ]
  },
  {
   "cell_type": "code",
   "execution_count": 51,
   "metadata": {},
   "outputs": [
    {
     "data": {
      "text/plain": [
       "(0.6752568507881287, 0.13253012048192772, 0.3493975903614458)"
      ]
     },
     "execution_count": 51,
     "metadata": {},
     "output_type": "execute_result"
    }
   ],
   "source": [
    "logistic_threshold[15],logistic_fpr[15], logistic_tpr[15]"
   ]
  },
  {
   "cell_type": "code",
   "execution_count": 52,
   "metadata": {},
   "outputs": [
    {
     "data": {
      "text/plain": [
       "array([0.        , 0.01204819, 0.01204819, 0.02409639, 0.02409639,\n",
       "       0.14457831, 0.14457831, 0.21686747, 0.21686747, 0.25301205,\n",
       "       0.25301205, 0.30120482, 0.30120482, 0.31325301, 0.31325301,\n",
       "       0.34939759, 0.34939759, 0.40963855, 0.40963855, 0.42168675,\n",
       "       0.42168675, 0.43373494, 0.43373494, 0.48192771, 0.48192771,\n",
       "       0.55421687, 0.55421687, 0.59036145, 0.59036145, 0.61445783,\n",
       "       0.61445783, 0.62650602, 0.62650602, 0.65060241, 0.65060241,\n",
       "       0.69879518, 0.69879518, 0.71084337, 0.71084337, 0.72289157,\n",
       "       0.72289157, 0.73493976, 0.73493976, 0.75903614, 0.75903614,\n",
       "       0.77108434, 0.77108434, 0.80722892, 0.80722892, 0.84337349,\n",
       "       0.84337349, 0.86746988, 0.89156627, 0.89156627, 0.90361446,\n",
       "       0.90361446, 0.92771084, 0.92771084, 0.96385542, 0.96385542,\n",
       "       0.97590361, 0.97590361, 1.        , 1.        ])"
      ]
     },
     "execution_count": 52,
     "metadata": {},
     "output_type": "execute_result"
    }
   ],
   "source": [
    "logistic_tpr"
   ]
  },
  {
   "cell_type": "code",
   "execution_count": 53,
   "metadata": {},
   "outputs": [
    {
     "data": {
      "text/plain": [
       "51"
      ]
     },
     "execution_count": 53,
     "metadata": {},
     "output_type": "execute_result"
    }
   ],
   "source": [
    "logistic_tpr.tolist().index(0.8674698795180723)"
   ]
  },
  {
   "cell_type": "code",
   "execution_count": 54,
   "metadata": {},
   "outputs": [
    {
     "data": {
      "text/plain": [
       "0.5136422261528462"
      ]
     },
     "execution_count": 54,
     "metadata": {},
     "output_type": "execute_result"
    }
   ],
   "source": [
    "logistic_threshold[51]"
   ]
  },
  {
   "cell_type": "code",
   "execution_count": 55,
   "metadata": {},
   "outputs": [
    {
     "data": {
      "text/plain": [
       "0.4939759036144578"
      ]
     },
     "execution_count": 55,
     "metadata": {},
     "output_type": "execute_result"
    }
   ],
   "source": [
    "logistic_fpr[51]"
   ]
  },
  {
   "cell_type": "code",
   "execution_count": 56,
   "metadata": {},
   "outputs": [
    {
     "data": {
      "text/plain": [
       "(array([51]),)"
      ]
     },
     "execution_count": 56,
     "metadata": {},
     "output_type": "execute_result"
    }
   ],
   "source": [
    "np.where(logistic_tpr==.8674698795180723)"
   ]
  },
  {
   "cell_type": "code",
   "execution_count": 57,
   "metadata": {},
   "outputs": [
    {
     "name": "stdout",
     "output_type": "stream",
     "text": [
      "The above implies that for a threshold value of 0.5136422261528465, the corresponding tpr/recall is 0.8674698795180723  and false positive rate is 0.4939759036144578. The calculation is done by considering Has LP - Has LP as true value.\n",
      "If you want threshold, fpr, tpr values for 0 i.e. does not have LP, use lr.predict_proba(X_test)[:,0] while calculating threshold,trp and fpr values instead.\n"
     ]
    }
   ],
   "source": [
    "print(\"The above implies that for a threshold value of 0.5136422261528465, the corresponding tpr/recall is 0.8674698795180723  and false positive rate is 0.4939759036144578. The calculation is done by considering Has LP - Has LP as true value.\") \n",
    "\n",
    "print(\"If you want threshold, fpr, tpr values for 0 i.e. does not have LP, use lr.predict_proba(X_test)[:,0] while calculating threshold,trp and fpr values instead.\")  "
   ]
  },
  {
   "cell_type": "code",
   "execution_count": 58,
   "metadata": {},
   "outputs": [],
   "source": [
    "from sklearn import tree\n",
    "model = tree.DecisionTreeClassifier()"
   ]
  },
  {
   "cell_type": "code",
   "execution_count": 59,
   "metadata": {},
   "outputs": [],
   "source": [
    "target=X_res[\"Dataset\"]\n",
    "source=X_res.drop([\"Dataset\"],axis=1)"
   ]
  },
  {
   "cell_type": "code",
   "execution_count": 60,
   "metadata": {},
   "outputs": [],
   "source": [
    "X_train,X_test,y_train,y_test = train_test_split(source,target,test_size=0.2,random_state=1)"
   ]
  },
  {
   "cell_type": "code",
   "execution_count": 61,
   "metadata": {},
   "outputs": [
    {
     "data": {
      "text/plain": [
       "DecisionTreeClassifier()"
      ]
     },
     "execution_count": 61,
     "metadata": {},
     "output_type": "execute_result"
    }
   ],
   "source": [
    "model.fit(X_train,y_train)"
   ]
  },
  {
   "cell_type": "code",
   "execution_count": 62,
   "metadata": {},
   "outputs": [
    {
     "data": {
      "text/plain": [
       "0.7710843373493976"
      ]
     },
     "execution_count": 62,
     "metadata": {},
     "output_type": "execute_result"
    }
   ],
   "source": [
    "model.score(X_test,y_test)"
   ]
  },
  {
   "cell_type": "code",
   "execution_count": 63,
   "metadata": {},
   "outputs": [
    {
     "name": "stdout",
     "output_type": "stream",
     "text": [
      "0.7281442844548927\n"
     ]
    }
   ],
   "source": [
    "print(cross_val_score(model,X_train,y_train,cv=8,scoring='accuracy').mean())"
   ]
  },
  {
   "cell_type": "code",
   "execution_count": 64,
   "metadata": {},
   "outputs": [],
   "source": [
    "# import pickle\n",
    "# pickle.dump(model,open('model_liver.pkl','wb'))"
   ]
  },
  {
   "cell_type": "code",
   "execution_count": null,
   "metadata": {},
   "outputs": [],
   "source": []
  }
 ],
 "metadata": {
  "kernelspec": {
   "display_name": "Python 3",
   "language": "python",
   "name": "python3"
  },
  "language_info": {
   "codemirror_mode": {
    "name": "ipython",
    "version": 3
   },
   "file_extension": ".py",
   "mimetype": "text/x-python",
   "name": "python",
   "nbconvert_exporter": "python",
   "pygments_lexer": "ipython3",
   "version": "3.8.5"
  }
 },
 "nbformat": 4,
 "nbformat_minor": 2
}
