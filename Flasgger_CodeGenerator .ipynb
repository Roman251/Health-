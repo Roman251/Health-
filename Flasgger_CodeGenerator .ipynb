{
 "cells": [
  {
   "cell_type": "code",
   "execution_count": 1,
   "metadata": {},
   "outputs": [],
   "source": [
    "import pandas as pd\n",
    "pd.set_option('display.max_columns', None)"
   ]
  },
  {
   "cell_type": "code",
   "execution_count": 2,
   "metadata": {},
   "outputs": [],
   "source": [
    "df = pd.read_csv('heart.csv')"
   ]
  },
  {
   "cell_type": "code",
   "execution_count": 3,
   "metadata": {},
   "outputs": [
    {
     "data": {
      "text/html": [
       "<div>\n",
       "<style scoped>\n",
       "    .dataframe tbody tr th:only-of-type {\n",
       "        vertical-align: middle;\n",
       "    }\n",
       "\n",
       "    .dataframe tbody tr th {\n",
       "        vertical-align: top;\n",
       "    }\n",
       "\n",
       "    .dataframe thead th {\n",
       "        text-align: right;\n",
       "    }\n",
       "</style>\n",
       "<table border=\"1\" class=\"dataframe\">\n",
       "  <thead>\n",
       "    <tr style=\"text-align: right;\">\n",
       "      <th></th>\n",
       "      <th>age</th>\n",
       "      <th>sex</th>\n",
       "      <th>cp</th>\n",
       "      <th>restbp</th>\n",
       "      <th>chol</th>\n",
       "      <th>fbs</th>\n",
       "      <th>restecg</th>\n",
       "      <th>thalach</th>\n",
       "      <th>examg</th>\n",
       "      <th>oldpeak</th>\n",
       "      <th>slope</th>\n",
       "      <th>ca</th>\n",
       "      <th>thal</th>\n",
       "      <th>hd</th>\n",
       "    </tr>\n",
       "  </thead>\n",
       "  <tbody>\n",
       "    <tr>\n",
       "      <th>0</th>\n",
       "      <td>63</td>\n",
       "      <td>1</td>\n",
       "      <td>1</td>\n",
       "      <td>145</td>\n",
       "      <td>233</td>\n",
       "      <td>1</td>\n",
       "      <td>2</td>\n",
       "      <td>150</td>\n",
       "      <td>0</td>\n",
       "      <td>2</td>\n",
       "      <td>3</td>\n",
       "      <td>0</td>\n",
       "      <td>6</td>\n",
       "      <td>0</td>\n",
       "    </tr>\n",
       "    <tr>\n",
       "      <th>1</th>\n",
       "      <td>67</td>\n",
       "      <td>1</td>\n",
       "      <td>4</td>\n",
       "      <td>160</td>\n",
       "      <td>286</td>\n",
       "      <td>0</td>\n",
       "      <td>2</td>\n",
       "      <td>108</td>\n",
       "      <td>1</td>\n",
       "      <td>1</td>\n",
       "      <td>2</td>\n",
       "      <td>3</td>\n",
       "      <td>3</td>\n",
       "      <td>1</td>\n",
       "    </tr>\n",
       "    <tr>\n",
       "      <th>2</th>\n",
       "      <td>67</td>\n",
       "      <td>1</td>\n",
       "      <td>4</td>\n",
       "      <td>120</td>\n",
       "      <td>229</td>\n",
       "      <td>0</td>\n",
       "      <td>2</td>\n",
       "      <td>129</td>\n",
       "      <td>1</td>\n",
       "      <td>2</td>\n",
       "      <td>2</td>\n",
       "      <td>2</td>\n",
       "      <td>7</td>\n",
       "      <td>0</td>\n",
       "    </tr>\n",
       "    <tr>\n",
       "      <th>3</th>\n",
       "      <td>37</td>\n",
       "      <td>1</td>\n",
       "      <td>3</td>\n",
       "      <td>130</td>\n",
       "      <td>250</td>\n",
       "      <td>0</td>\n",
       "      <td>0</td>\n",
       "      <td>187</td>\n",
       "      <td>0</td>\n",
       "      <td>3</td>\n",
       "      <td>3</td>\n",
       "      <td>0</td>\n",
       "      <td>3</td>\n",
       "      <td>0</td>\n",
       "    </tr>\n",
       "    <tr>\n",
       "      <th>4</th>\n",
       "      <td>41</td>\n",
       "      <td>0</td>\n",
       "      <td>2</td>\n",
       "      <td>130</td>\n",
       "      <td>204</td>\n",
       "      <td>0</td>\n",
       "      <td>2</td>\n",
       "      <td>172</td>\n",
       "      <td>0</td>\n",
       "      <td>1</td>\n",
       "      <td>1</td>\n",
       "      <td>0</td>\n",
       "      <td>3</td>\n",
       "      <td>0</td>\n",
       "    </tr>\n",
       "  </tbody>\n",
       "</table>\n",
       "</div>"
      ],
      "text/plain": [
       "   age  sex  cp  restbp  chol  fbs  restecg  thalach  examg  oldpeak  slope  \\\n",
       "0   63    1   1     145   233    1        2      150      0        2      3   \n",
       "1   67    1   4     160   286    0        2      108      1        1      2   \n",
       "2   67    1   4     120   229    0        2      129      1        2      2   \n",
       "3   37    1   3     130   250    0        0      187      0        3      3   \n",
       "4   41    0   2     130   204    0        2      172      0        1      1   \n",
       "\n",
       "   ca  thal  hd  \n",
       "0   0     6   0  \n",
       "1   3     3   1  \n",
       "2   2     7   0  \n",
       "3   0     3   0  \n",
       "4   0     3   0  "
      ]
     },
     "execution_count": 3,
     "metadata": {},
     "output_type": "execute_result"
    }
   ],
   "source": [
    "df.head()"
   ]
  },
  {
   "cell_type": "code",
   "execution_count": 4,
   "metadata": {},
   "outputs": [],
   "source": [
    "df=df.drop(columns=['hd'])"
   ]
  },
  {
   "cell_type": "code",
   "execution_count": 5,
   "metadata": {},
   "outputs": [
    {
     "data": {
      "text/plain": [
       "13"
      ]
     },
     "execution_count": 5,
     "metadata": {},
     "output_type": "execute_result"
    }
   ],
   "source": [
    "len(df.columns)"
   ]
  },
  {
   "cell_type": "code",
   "execution_count": 6,
   "metadata": {},
   "outputs": [
    {
     "data": {
      "text/plain": [
       "'age'"
      ]
     },
     "execution_count": 6,
     "metadata": {},
     "output_type": "execute_result"
    }
   ],
   "source": [
    "df.columns[0]"
   ]
  },
  {
   "cell_type": "code",
   "execution_count": 7,
   "metadata": {},
   "outputs": [
    {
     "name": "stdout",
     "output_type": "stream",
     "text": [
      "    parameters:\n",
      "      - name: age\n",
      "        in: query\n",
      "        type: number\n",
      "        required: true\n",
      "      - name: sex\n",
      "        in: query\n",
      "        type: number\n",
      "        required: true\n",
      "      - name: cp\n",
      "        in: query\n",
      "        type: number\n",
      "        required: true\n",
      "      - name: restbp\n",
      "        in: query\n",
      "        type: number\n",
      "        required: true\n",
      "      - name: chol\n",
      "        in: query\n",
      "        type: number\n",
      "        required: true\n",
      "      - name: fbs\n",
      "        in: query\n",
      "        type: number\n",
      "        required: true\n",
      "      - name: restecg\n",
      "        in: query\n",
      "        type: number\n",
      "        required: true\n",
      "      - name: thalach\n",
      "        in: query\n",
      "        type: number\n",
      "        required: true\n",
      "      - name: examg\n",
      "        in: query\n",
      "        type: number\n",
      "        required: true\n",
      "      - name: oldpeak\n",
      "        in: query\n",
      "        type: number\n",
      "        required: true\n",
      "      - name: slope\n",
      "        in: query\n",
      "        type: number\n",
      "        required: true\n",
      "      - name: ca\n",
      "        in: query\n",
      "        type: number\n",
      "        required: true\n",
      "      - name: thal\n",
      "        in: query\n",
      "        type: number\n",
      "        required: true\n"
     ]
    }
   ],
   "source": [
    "print(\"    parameters:\")\n",
    "for i in range(13):\n",
    "    \n",
    "    print(\"      - name: \" + df.columns[i])\n",
    "    print(\"        in: query\")\n",
    "    print(\"        type: number\")\n",
    "    print(\"        required: true\")"
   ]
  },
  {
   "cell_type": "code",
   "execution_count": 8,
   "metadata": {},
   "outputs": [
    {
     "name": "stdout",
     "output_type": "stream",
     "text": [
      "age=request.args.get('age')\n",
      "sex=request.args.get('sex')\n",
      "cp=request.args.get('cp')\n",
      "restbp=request.args.get('restbp')\n",
      "chol=request.args.get('chol')\n",
      "fbs=request.args.get('fbs')\n",
      "restecg=request.args.get('restecg')\n",
      "thalach=request.args.get('thalach')\n",
      "examg=request.args.get('examg')\n",
      "oldpeak=request.args.get('oldpeak')\n",
      "slope=request.args.get('slope')\n",
      "ca=request.args.get('ca')\n",
      "thal=request.args.get('thal')\n"
     ]
    }
   ],
   "source": [
    "for i in range(13):\n",
    "    print(df.columns[i]+\"=\"+\"request.args.get(\" + \"'{}'\".format(df.columns[i]) + \")\")"
   ]
  },
  {
   "cell_type": "code",
   "execution_count": 9,
   "metadata": {},
   "outputs": [
    {
     "name": "stdout",
     "output_type": "stream",
     "text": [
      "age,sex,cp,restbp,chol,fbs,restecg,thalach,examg,oldpeak,slope,ca,thal,"
     ]
    }
   ],
   "source": [
    "for items in df.columns:\n",
    "    print(items + ',',end='')"
   ]
  },
  {
   "cell_type": "code",
   "execution_count": null,
   "metadata": {},
   "outputs": [],
   "source": [
    "    "
   ]
  }
 ],
 "metadata": {
  "kernelspec": {
   "display_name": "Python 3",
   "language": "python",
   "name": "python3"
  },
  "language_info": {
   "codemirror_mode": {
    "name": "ipython",
    "version": 3
   },
   "file_extension": ".py",
   "mimetype": "text/x-python",
   "name": "python",
   "nbconvert_exporter": "python",
   "pygments_lexer": "ipython3",
   "version": "3.7.5"
  }
 },
 "nbformat": 4,
 "nbformat_minor": 2
}
