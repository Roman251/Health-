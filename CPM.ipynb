{
 "cells": [
  {
   "cell_type": "code",
   "execution_count": 1,
   "metadata": {},
   "outputs": [],
   "source": [
    "from criticalpath import Node"
   ]
  },
  {
   "cell_type": "code",
   "execution_count": 2,
   "metadata": {},
   "outputs": [],
   "source": [
    "print(\"CPM is a technique which is used for the projects where the time needed for completion of project is already known.It is majorly used for determining the approximate time within which a project can be completed. Critical path is the   largest path in project management which always provide minimum time taken for completion of project\")"
   ]
  },
  {
   "cell_type": "code",
   "execution_count": 3,
   "metadata": {},
   "outputs": [],
   "source": [
    "activity = {'A':{},'B':{},'C':{},'D':{'B'},'E':{'A'},'F':{'A'},'G':{'B'},'H':{'C','D'},'I':{'C','D'},'J':{'E'},\n",
    "           'K':{'F','G','H'},'L':{'F','G','H'},'M':{'I'},'N':{'J','K'}}\n",
    "\n",
    "# N:J,K --> N can start only after the completion of J and K"
   ]
  },
  {
   "cell_type": "code",
   "execution_count": 4,
   "metadata": {},
   "outputs": [],
   "source": [
    "links = []"
   ]
  },
  {
   "cell_type": "code",
   "execution_count": 5,
   "metadata": {},
   "outputs": [
    {
     "name": "stdout",
     "output_type": "stream",
     "text": [
      "A--> start\n",
      "B--> start\n",
      "C--> start\n"
     ]
    }
   ],
   "source": [
    "for keys in activity:\n",
    "    if len(activity[keys])==0:\n",
    "        print(keys+' --> start')\n",
    "    else:\n",
    "        for i in activity[keys]:\n",
    "            links.append((i.lower(), keys.lower()))"
   ]
  },
  {
   "cell_type": "code",
   "execution_count": 6,
   "metadata": {},
   "outputs": [
    {
     "data": {
      "text/plain": [
       "[('b', 'd'),\n",
       " ('a', 'e'),\n",
       " ('a', 'f'),\n",
       " ('b', 'g'),\n",
       " ('d', 'h'),\n",
       " ('c', 'h'),\n",
       " ('d', 'i'),\n",
       " ('c', 'i'),\n",
       " ('e', 'j'),\n",
       " ('g', 'k'),\n",
       " ('h', 'k'),\n",
       " ('f', 'k'),\n",
       " ('g', 'l'),\n",
       " ('h', 'l'),\n",
       " ('f', 'l'),\n",
       " ('i', 'm'),\n",
       " ('k', 'n'),\n",
       " ('j', 'n')]"
      ]
     },
     "execution_count": 6,
     "metadata": {},
     "output_type": "execute_result"
    }
   ],
   "source": [
    "links"
   ]
  },
  {
   "cell_type": "code",
   "execution_count": 7,
   "metadata": {},
   "outputs": [],
   "source": [
    "p = Node('project')\n",
    "a = p.add(Node('A', duration=2)) #tail event --> start \n",
    "b = p.add(Node('B', duration=5)) #tail event\n",
    "c = p.add(Node('C', duration=4)) #tail event\n",
    "d = p.add(Node('D', duration=5, lag=0))\n",
    "e = p.add(Node('E', duration=7, lag=0))\n",
    "f = p.add(Node('F', duration=3, lag=0))\n",
    "g = p.add(Node('G', duration=3, lag=0))\n",
    "h = p.add(Node('H', duration=6, lag=0))\n",
    "i = p.add(Node('I', duration=2, lag=0))\n",
    "j = p.add(Node('J', duration=5, lag=0))\n",
    "k = p.add(Node('K', duration=4, lag=0))\n",
    "l = p.add(Node('L', duration=3, lag=0))\n",
    "m = p.add(Node('M', duration=12,lag=0))\n",
    "n = p.add(Node('N', duration=8, lag=0))"
   ]
  },
  {
   "cell_type": "code",
   "execution_count": 8,
   "metadata": {},
   "outputs": [
    {
     "data": {
      "text/plain": [
       "project"
      ]
     },
     "execution_count": 8,
     "metadata": {},
     "output_type": "execute_result"
    }
   ],
   "source": [
    "p.link(a, e).link(e, j).link(j, n).link(a, f).link(f, k).link(d, h).link(d, i).link(k, n).link(f, l).link(b, g).link(g, k).link(b, d).link(c, h).link(h, l).link(h, k).link(c, i).link(i, m).link(g, l)"
   ]
  },
  {
   "cell_type": "code",
   "execution_count": 9,
   "metadata": {},
   "outputs": [],
   "source": [
    "p.update_all()"
   ]
  },
  {
   "cell_type": "code",
   "execution_count": 10,
   "metadata": {},
   "outputs": [
    {
     "data": {
      "text/plain": [
       "[B, D, H, K, N]"
      ]
     },
     "execution_count": 10,
     "metadata": {},
     "output_type": "execute_result"
    }
   ],
   "source": [
    "p.get_critical_path() #longest path in the network"
   ]
  },
  {
   "cell_type": "code",
   "execution_count": 11,
   "metadata": {},
   "outputs": [
    {
     "data": {
      "text/plain": [
       "28"
      ]
     },
     "execution_count": 11,
     "metadata": {},
     "output_type": "execute_result"
    }
   ],
   "source": [
    "p.duration"
   ]
  },
  {
   "cell_type": "code",
   "execution_count": 12,
   "metadata": {},
   "outputs": [
    {
     "data": {
      "text/plain": [
       "True"
      ]
     },
     "execution_count": 12,
     "metadata": {},
     "output_type": "execute_result"
    }
   ],
   "source": [
    "p.is_acyclic()"
   ]
  },
  {
   "cell_type": "code",
   "execution_count": 13,
   "metadata": {},
   "outputs": [],
   "source": [
    "import criticalpath"
   ]
  },
  {
   "cell_type": "code",
   "execution_count": 14,
   "metadata": {},
   "outputs": [
    {
     "name": "stdout",
     "output_type": "stream",
     "text": [
      "/opt/anaconda3/lib/python3.8/site-packages/criticalpath/__init__.py\n"
     ]
    }
   ],
   "source": [
    "print(criticalpath.__file__) "
   ]
  },
  {
   "cell_type": "code",
   "execution_count": 15,
   "metadata": {},
   "outputs": [
    {
     "data": {
      "text/plain": [
       "['__class__',\n",
       " '__cmp__',\n",
       " '__delattr__',\n",
       " '__dict__',\n",
       " '__dir__',\n",
       " '__doc__',\n",
       " '__eq__',\n",
       " '__format__',\n",
       " '__ge__',\n",
       " '__getattribute__',\n",
       " '__gt__',\n",
       " '__hash__',\n",
       " '__init__',\n",
       " '__init_subclass__',\n",
       " '__le__',\n",
       " '__lt__',\n",
       " '__module__',\n",
       " '__ne__',\n",
       " '__new__',\n",
       " '__reduce__',\n",
       " '__reduce_ex__',\n",
       " '__repr__',\n",
       " '__setattr__',\n",
       " '__sizeof__',\n",
       " '__str__',\n",
       " '__subclasshook__',\n",
       " '__weakref__',\n",
       " 'add',\n",
       " 'add_exit',\n",
       " 'duration',\n",
       " 'ef',\n",
       " 'es',\n",
       " 'first_nodes',\n",
       " 'get_critical_path',\n",
       " 'get_or_create_node',\n",
       " 'is_acyclic',\n",
       " 'lag',\n",
       " 'last_nodes',\n",
       " 'lf',\n",
       " 'link',\n",
       " 'lookup_node',\n",
       " 'ls',\n",
       " 'print_times',\n",
       " 'update_all',\n",
       " 'update_backward',\n",
       " 'update_forward']"
      ]
     },
     "execution_count": 15,
     "metadata": {},
     "output_type": "execute_result"
    }
   ],
   "source": [
    "dir(Node)"
   ]
  },
  {
   "cell_type": "code",
   "execution_count": 16,
   "metadata": {},
   "outputs": [
    {
     "data": {
      "text/plain": [
       "{A, B, C}"
      ]
     },
     "execution_count": 16,
     "metadata": {},
     "output_type": "execute_result"
    }
   ],
   "source": [
    "p.first_nodes"
   ]
  },
  {
   "cell_type": "code",
   "execution_count": 17,
   "metadata": {},
   "outputs": [
    {
     "name": "stdout",
     "output_type": "stream",
     "text": [
      "\n",
      "+-----------------------+\n",
      "|        DUR=28         |\n",
      "+-----------------------+\n",
      "|ES=0   |       |EF=28  |\n",
      "|-------|project|-------|\n",
      "|LS=0   |       |LF=28  |\n",
      "+-----------------------+\n",
      "|       DRAG=None       |\n",
      "+-----------------------+\n",
      "\n"
     ]
    }
   ],
   "source": [
    "p.print_times()"
   ]
  },
  {
   "cell_type": "code",
   "execution_count": 18,
   "metadata": {},
   "outputs": [
    {
     "data": {
      "text/plain": [
       "['Node',\n",
       " 'VERSION',\n",
       " '__builtins__',\n",
       " '__cached__',\n",
       " '__doc__',\n",
       " '__file__',\n",
       " '__loader__',\n",
       " '__name__',\n",
       " '__package__',\n",
       " '__path__',\n",
       " '__spec__',\n",
       " '__version__',\n",
       " 'criticalpath']"
      ]
     },
     "execution_count": 18,
     "metadata": {},
     "output_type": "execute_result"
    }
   ],
   "source": [
    "dir(criticalpath)"
   ]
  },
  {
   "cell_type": "code",
   "execution_count": 19,
   "metadata": {},
   "outputs": [],
   "source": [
    "p = Node('project')\n",
    "a = p.add(Node('A', duration=4)) #tail event --> start \n",
    "b = p.add(Node('B', duration=3)) #tail event\n",
    "c = p.add(Node('C', duration=2, lag=0)) \n",
    "d = p.add(Node('D', duration=5, lag=0))\n",
    "e = p.add(Node('E', duration=6, lag=0))\n",
    "f = p.add(Node('F', duration=4, lag=0))\n",
    "g = p.add(Node('G', duration=3, lag=0))\n",
    "h = p.add(Node('H', duration=7, lag=0))\n",
    "i = p.add(Node('I', duration=4, lag=0))\n",
    "j = p.add(Node('J', duration=5, lag=0))"
   ]
  },
  {
   "cell_type": "code",
   "execution_count": 20,
   "metadata": {},
   "outputs": [
    {
     "data": {
      "text/plain": [
       "project"
      ]
     },
     "execution_count": 20,
     "metadata": {},
     "output_type": "execute_result"
    }
   ],
   "source": [
    "p.link(a, c).link(c, f).link(f, i).link(f, h).link(h, j).link(a, d).link(d, g).link(g, i).link(g, h).link(b, e).link(e, j)"
   ]
  },
  {
   "cell_type": "code",
   "execution_count": 21,
   "metadata": {},
   "outputs": [
    {
     "data": {
      "text/plain": [
       "[A, D, G, H, J]"
      ]
     },
     "execution_count": 21,
     "metadata": {},
     "output_type": "execute_result"
    }
   ],
   "source": [
    "p.get_critical_path()"
   ]
  },
  {
   "cell_type": "code",
   "execution_count": 22,
   "metadata": {},
   "outputs": [],
   "source": [
    "p.duration"
   ]
  },
  {
   "cell_type": "code",
   "execution_count": 23,
   "metadata": {},
   "outputs": [
    {
     "name": "stdout",
     "output_type": "stream",
     "text": [
      "\n",
      "+-----------------------+\n",
      "|        DUR=None        |\n",
      "+-----------------------+\n",
      "|ES=None|       |EF=None|\n",
      "|-------|project|-------|\n",
      "|LS=None|       |LF=None|\n",
      "+-----------------------+\n",
      "|       DRAG=None       |\n",
      "+-----------------------+\n",
      "\n"
     ]
    }
   ],
   "source": [
    "p.print_times()"
   ]
  },
  {
   "cell_type": "code",
   "execution_count": 24,
   "metadata": {},
   "outputs": [
    {
     "data": {
      "text/plain": [
       "True"
      ]
     },
     "execution_count": 24,
     "metadata": {},
     "output_type": "execute_result"
    }
   ],
   "source": [
    "p.is_acyclic()"
   ]
  },
  {
   "cell_type": "code",
   "execution_count": 25,
   "metadata": {},
   "outputs": [
    {
     "data": {
      "text/plain": [
       "{A, B}"
      ]
     },
     "execution_count": 25,
     "metadata": {},
     "output_type": "execute_result"
    }
   ],
   "source": [
    "p.first_nodes"
   ]
  },
  {
   "cell_type": "code",
   "execution_count": 26,
   "metadata": {},
   "outputs": [],
   "source": [
    "# start nodes should not end up on the same node\n",
    "# Add a dummy node"
   ]
  },
  {
   "cell_type": "code",
   "execution_count": 27,
   "metadata": {},
   "outputs": [],
   "source": [
    "p = Node('project')\n",
    "a = p.add(Node('A', duration=4)) #tail event --> start \n",
    "b = p.add(Node('B', duration=3))\n",
    "\n",
    "# add dummy\n",
    "\n",
    "dummy = p.add(Node('dummy', duration=0))\n",
    "c = p.add(Node('C', duration=2, lag=0))\n",
    "d = p.add(Node('D', duration=5, lag=0))\n",
    "e = p.add(Node('E', duration=6, lag=0))\n",
    "f = p.add(Node('F', duration=4, lag=0))\n",
    "g = p.add(Node('G', duration=3, lag=0))\n",
    "h = p.add(Node('H', duration=7, lag=0))\n",
    "i = p.add(Node('I', duration=4, lag=0))\n",
    "j = p.add(Node('J', duration=5, lag=0))"
   ]
  },
  {
   "cell_type": "code",
   "execution_count": 28,
   "metadata": {},
   "outputs": [
    {
     "data": {
      "text/plain": [
       "project"
      ]
     },
     "execution_count": 28,
     "metadata": {},
     "output_type": "execute_result"
    }
   ],
   "source": [
    "p.link(a, c).link(b,dummy).link(dummy,c).link(c, f).link(f, i).link(f, h).link(h, j).link(a, d).link(d, g).link(g, i).link(g, h).link(b, e).link(e, j)"
   ]
  },
  {
   "cell_type": "code",
   "execution_count": 29,
   "metadata": {},
   "outputs": [
    {
     "data": {
      "text/plain": [
       "[A, D, G, H, J]"
      ]
     },
     "execution_count": 29,
     "metadata": {},
     "output_type": "execute_result"
    }
   ],
   "source": [
    "p.get_critical_path()"
   ]
  },
  {
   "cell_type": "code",
   "execution_count": 30,
   "metadata": {},
   "outputs": [],
   "source": [
    "p.duration"
   ]
  },
  {
   "cell_type": "code",
   "execution_count": null,
   "metadata": {},
   "outputs": [],
   "source": []
  }
 ],
 "metadata": {
  "kernelspec": {
   "display_name": "Python 3",
   "language": "python",
   "name": "python3"
  },
  "language_info": {
   "codemirror_mode": {
    "name": "ipython",
    "version": 3
   },
   "file_extension": ".py",
   "mimetype": "text/x-python",
   "name": "python",
   "nbconvert_exporter": "python",
   "pygments_lexer": "ipython3",
   "version": "3.8.5"
  }
 },
 "nbformat": 4,
 "nbformat_minor": 4
}
